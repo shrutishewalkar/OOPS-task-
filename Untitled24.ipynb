{
 "cells": [
  {
   "cell_type": "markdown",
   "id": "c8d05342-95c7-4a74-9da1-2c040186a01a",
   "metadata": {},
   "source": [
    "Q1 Create a vehicle class with an init method having instance variables as name_of_vehicle, max_speed, average_of_vehicle"
   ]
  },
  {
   "cell_type": "code",
   "execution_count": 1,
   "id": "c4d24b0b-7e27-43f5-a06b-89b0e10835b5",
   "metadata": {},
   "outputs": [],
   "source": [
    "class vehicle:\n",
    "    def __init__(self, name_of_vehicle, max_speed, average_of_vehicle):\n",
    "        self.name_of_vehicle = name_of_vehicle\n",
    "        self.max_speed = max_speed\n",
    "        self.average_of = average_of_vehicle"
   ]
  },
  {
   "cell_type": "markdown",
   "id": "8d7327e8-c05f-45f7-a57f-afc19579b54e",
   "metadata": {},
   "source": [
    "Q2 Create a child class car from the vehicle class created in Question 1, which will inherit the vehicle_class. Create a method named seating_capacity which takes capacity as an argument and returns the name of the vehicle and its seating capacity."
   ]
  },
  {
   "cell_type": "code",
   "execution_count": 2,
   "id": "0f04d579-f83c-476f-9c88-882b44bf7e6e",
   "metadata": {},
   "outputs": [],
   "source": [
    "class car(vehicle):\n",
    "    def seating_capacity(self, capacity):\n",
    "        return self.name_of_vehicle, capacity\n",
    "        "
   ]
  },
  {
   "cell_type": "code",
   "execution_count": 3,
   "id": "b0f39e9e-388c-4a0a-9946-5d272eb6982f",
   "metadata": {},
   "outputs": [],
   "source": [
    "child_obj = car('Toyota', 120, 70)"
   ]
  },
  {
   "cell_type": "code",
   "execution_count": 4,
   "id": "373e8cd0-95f5-4378-bcca-512388faf939",
   "metadata": {},
   "outputs": [
    {
     "data": {
      "text/plain": [
       "('Toyota', 6)"
      ]
     },
     "execution_count": 4,
     "metadata": {},
     "output_type": "execute_result"
    }
   ],
   "source": [
    "child_obj.seating_capacity(6)"
   ]
  },
  {
   "cell_type": "markdown",
   "id": "5ada9950-4e50-4387-9a7e-cde0767daf96",
   "metadata": {},
   "source": [
    "Q3 What is mulitple inheritance? Write a Python code to demonstrate multipli inheritance."
   ]
  },
  {
   "cell_type": "markdown",
   "id": "a4165fd6-e21b-46c9-956e-17ff6379b88d",
   "metadata": {},
   "source": [
    "Ans: A class can be derived from more than one superclass in Python. This is called multiple inheritance"
   ]
  },
  {
   "cell_type": "code",
   "execution_count": 5,
   "id": "67fafc10-d6f8-4543-8d4d-3640028883ed",
   "metadata": {},
   "outputs": [],
   "source": [
    "class super_class1:\n",
    "    def class1_func(self):\n",
    "        return 'this is method of class 1'\n",
    "\n",
    "class super_class2:\n",
    "    def class2_func(self):\n",
    "        return 'this is method of class 2'\n",
    "    \n",
    "class sub_class(super_class1, super_class2):\n",
    "    pass"
   ]
  },
  {
   "cell_type": "code",
   "execution_count": 6,
   "id": "92cd59e3-e13e-4e25-b01d-d1ce743cbc8a",
   "metadata": {},
   "outputs": [],
   "source": [
    "subclass_obj = sub_class()"
   ]
  },
  {
   "cell_type": "code",
   "execution_count": 7,
   "id": "f0fb71a5-3789-4240-9ee5-27e727eefa0a",
   "metadata": {},
   "outputs": [
    {
     "data": {
      "text/plain": [
       "'this is method of class 1'"
      ]
     },
     "execution_count": 7,
     "metadata": {},
     "output_type": "execute_result"
    }
   ],
   "source": [
    "subclass_obj.class1_func()"
   ]
  },
  {
   "cell_type": "code",
   "execution_count": 8,
   "id": "933830f1-6ef0-48f7-bd40-b53a9ab99861",
   "metadata": {},
   "outputs": [
    {
     "data": {
      "text/plain": [
       "'this is method of class 2'"
      ]
     },
     "execution_count": 8,
     "metadata": {},
     "output_type": "execute_result"
    }
   ],
   "source": [
    "subclass_obj.class2_func()"
   ]
  },
  {
   "cell_type": "markdown",
   "id": "65d1ba29-4bd7-4de6-be02-f699605402c0",
   "metadata": {},
   "source": [
    "Q4 What are getter and setter in Python? Create a class and create a getter and setter method inthis class."
   ]
  },
  {
   "cell_type": "markdown",
   "id": "23eacdfb-d1c7-4e4f-b64d-db42582a087b",
   "metadata": {},
   "source": [
    "Ans: We use getters and setters in Python to restrict/hide an attribute/attirbutes (make it private) and define methods (getters and setters) to manipulate thse variables."
   ]
  },
  {
   "cell_type": "code",
   "execution_count": 10,
   "id": "700bb114-34d7-4de4-89b2-0fd3e96ba421",
   "metadata": {},
   "outputs": [],
   "source": [
    "class ExampleClass:\n",
    "    def __init__ (self, some_value):\n",
    "        self.__some_value = some_value\n",
    "    \n",
    "    #getter method\n",
    "    def get_value(self):\n",
    "        return self.__some_value\n",
    "    \n",
    "    #setter method\n",
    "    def set_value(self,some_value):\n",
    "        self.__some_value = 0 if some_value<0 else some_value\n",
    "    "
   ]
  },
  {
   "cell_type": "code",
   "execution_count": 11,
   "id": "e3da7166-402f-410a-86c2-0102f0ff31a1",
   "metadata": {},
   "outputs": [],
   "source": [
    "obj = ExampleClass(22)"
   ]
  },
  {
   "cell_type": "code",
   "execution_count": 12,
   "id": "4a06871e-7b27-4571-835b-fb85bbf1b5ff",
   "metadata": {},
   "outputs": [
    {
     "data": {
      "text/plain": [
       "22"
      ]
     },
     "execution_count": 12,
     "metadata": {},
     "output_type": "execute_result"
    }
   ],
   "source": [
    "obj.get_value()\n"
   ]
  },
  {
   "cell_type": "code",
   "execution_count": 13,
   "id": "c5d29f13-1dc9-413a-a9d6-cd805e0aa6f5",
   "metadata": {},
   "outputs": [],
   "source": [
    "obj.set_value(95)"
   ]
  },
  {
   "cell_type": "code",
   "execution_count": 14,
   "id": "54f66940-1c53-44ff-9615-9373f665e56e",
   "metadata": {},
   "outputs": [
    {
     "data": {
      "text/plain": [
       "95"
      ]
     },
     "execution_count": 14,
     "metadata": {},
     "output_type": "execute_result"
    }
   ],
   "source": [
    "obj.get_value()"
   ]
  },
  {
   "cell_type": "markdown",
   "id": "77ac2a66-488b-4ad8-b889-4117a434fdac",
   "metadata": {},
   "source": [
    "Q5 What is method overriding in Python? Write a Python code to demonstrate method overriding."
   ]
  },
  {
   "cell_type": "markdown",
   "id": "69a5bdbe-2909-4e2e-bfb8-e1fbee0d4738",
   "metadata": {},
   "source": [
    "Ans: Method overriding is a feature of object-oriented programming languages where the subclass or child class can provide the program with specific characteristics or a specific implementation process of data provided that are already defined in the parent class or superclass."
   ]
  },
  {
   "cell_type": "code",
   "execution_count": 15,
   "id": "dc2b134b-7b8f-485f-9f4b-ff11882bca02",
   "metadata": {},
   "outputs": [],
   "source": [
    "class superclass:\n",
    "    def some_method(self):\n",
    "        return 'this is some_method from superclass'\n",
    "    \n",
    "class subclass(superclass):\n",
    "    def some_method(self):\n",
    "        return 'this is some_method from subclass'"
   ]
  },
  {
   "cell_type": "code",
   "execution_count": 16,
   "id": "98b51410-de8a-49c3-a2fd-97811c561842",
   "metadata": {},
   "outputs": [],
   "source": [
    "super_obj = superclass()\n",
    "sub_obj = subclass()"
   ]
  },
  {
   "cell_type": "code",
   "execution_count": 17,
   "id": "08c0890a-9ccb-4295-8822-24c2377ed4ef",
   "metadata": {},
   "outputs": [
    {
     "data": {
      "text/plain": [
       "'this is some_method from superclass'"
      ]
     },
     "execution_count": 17,
     "metadata": {},
     "output_type": "execute_result"
    }
   ],
   "source": [
    "super_obj.some_method()"
   ]
  },
  {
   "cell_type": "code",
   "execution_count": 18,
   "id": "9f438f23-aa09-473a-8512-b60e346db918",
   "metadata": {},
   "outputs": [
    {
     "data": {
      "text/plain": [
       "'this is some_method from subclass'"
      ]
     },
     "execution_count": 18,
     "metadata": {},
     "output_type": "execute_result"
    }
   ],
   "source": [
    "sub_obj.some_method()"
   ]
  },
  {
   "cell_type": "code",
   "execution_count": null,
   "id": "8b1d7bee-aa99-4737-8e3f-91e7325f19d2",
   "metadata": {},
   "outputs": [],
   "source": []
  }
 ],
 "metadata": {
  "kernelspec": {
   "display_name": "Python 3 (ipykernel)",
   "language": "python",
   "name": "python3"
  },
  "language_info": {
   "codemirror_mode": {
    "name": "ipython",
    "version": 3
   },
   "file_extension": ".py",
   "mimetype": "text/x-python",
   "name": "python",
   "nbconvert_exporter": "python",
   "pygments_lexer": "ipython3",
   "version": "3.10.8"
  }
 },
 "nbformat": 4,
 "nbformat_minor": 5
}
